{
 "cells": [
  {
   "cell_type": "code",
   "execution_count": 1,
   "metadata": {},
   "outputs": [],
   "source": [
    "import csv"
   ]
  },
  {
   "cell_type": "code",
   "execution_count": null,
   "metadata": {},
   "outputs": [],
   "source": []
  },
  {
   "cell_type": "code",
   "execution_count": 32,
   "metadata": {},
   "outputs": [],
   "source": [
    "path = \"E:\\Programing\\ML\\MobilPI\\data_csv\\laporan.csv\"\n",
    "file = open(path, newline='')\n",
    "reader = csv.reader(file)"
   ]
  },
  {
   "cell_type": "code",
   "execution_count": 33,
   "metadata": {},
   "outputs": [],
   "source": [
    "header = next(reader)\n",
    "data = [row for row in reader]"
   ]
  },
  {
   "cell_type": "code",
   "execution_count": 34,
   "metadata": {},
   "outputs": [
    {
     "name": "stdout",
     "output_type": "stream",
     "text": [
      "['Type_Kendaraan', 'Warna_Kendaraan', 'Arah_Kendaraan', 'Kecepatan_Kendaraan(km/h)']\n"
     ]
    }
   ],
   "source": [
    "print(header)"
   ]
  },
  {
   "cell_type": "code",
   "execution_count": 36,
   "metadata": {},
   "outputs": [
    {
     "name": "stdout",
     "output_type": "stream",
     "text": [
      "['car', 'white', 'down', '61.01947585741679']\n"
     ]
    }
   ],
   "source": [
    "print(data[1])"
   ]
  },
  {
   "cell_type": "code",
   "execution_count": 45,
   "metadata": {},
   "outputs": [
    {
     "ename": "TypeError",
     "evalue": "object of type '_csv.reader' has no len()",
     "output_type": "error",
     "traceback": [
      "\u001b[1;31m---------------------------------------------------------------------------\u001b[0m",
      "\u001b[1;31mTypeError\u001b[0m                                 Traceback (most recent call last)",
      "\u001b[1;32m<ipython-input-45-685d1eb539e7>\u001b[0m in \u001b[0;36m<module>\u001b[1;34m\u001b[0m\n\u001b[1;32m----> 1\u001b[1;33m \u001b[0mrow_count\u001b[0m \u001b[1;33m=\u001b[0m \u001b[0mlen\u001b[0m\u001b[1;33m(\u001b[0m\u001b[0mreader\u001b[0m\u001b[1;33m)\u001b[0m\u001b[1;33m\u001b[0m\u001b[1;33m\u001b[0m\u001b[0m\n\u001b[0m",
      "\u001b[1;31mTypeError\u001b[0m: object of type '_csv.reader' has no len()"
     ]
    }
   ],
   "source": [
    "row_count = len(reader)"
   ]
  },
  {
   "cell_type": "code",
   "execution_count": 43,
   "metadata": {},
   "outputs": [
    {
     "name": "stdout",
     "output_type": "stream",
     "text": [
      "0\n"
     ]
    }
   ],
   "source": [
    "print (row_count)"
   ]
  },
  {
   "cell_type": "code",
   "execution_count": 45,
   "metadata": {},
   "outputs": [],
   "source": [
    "input_file = open(\"./data_csv/laporan.csv\",\"r+\")\n",
    "reader_file = csv.reader(input_file)"
   ]
  },
  {
   "cell_type": "code",
   "execution_count": null,
   "metadata": {},
   "outputs": [],
   "source": []
  },
  {
   "cell_type": "code",
   "execution_count": 46,
   "metadata": {},
   "outputs": [],
   "source": [
    "value = len(list(reader_file))"
   ]
  },
  {
   "cell_type": "code",
   "execution_count": 47,
   "metadata": {},
   "outputs": [
    {
     "name": "stdout",
     "output_type": "stream",
     "text": [
      "6\n"
     ]
    }
   ],
   "source": [
    "print (value)"
   ]
  },
  {
   "cell_type": "code",
   "execution_count": 48,
   "metadata": {},
   "outputs": [
    {
     "name": "stdout",
     "output_type": "stream",
     "text": [
      "['Type_Kendaraan', 'Warna_Kendaraan', 'Arah_Kendaraan', 'Kecepatan_Kendaraan(km/h)']\n",
      "['car', 'white', 'down', '61.01947585741679']\n",
      "['car', 'white', 'down', '45.767894983291626']\n",
      "['car', 'green', 'down', 'n.a.']\n",
      "['truck', 'black', 'down', 'n.a.']\n",
      "['car', 'white', 'down', '7.242308855056763']\n"
     ]
    }
   ],
   "source": [
    "with open ('./data_csv/laporan.csv', 'r') as csv_file:\n",
    "    csv_reader = csv.reader(csv_file)\n",
    "    \n",
    "    for line in csv_reader:\n",
    "        print (line)"
   ]
  },
  {
   "cell_type": "code",
   "execution_count": 49,
   "metadata": {},
   "outputs": [
    {
     "data": {
      "text/plain": [
       "6"
      ]
     },
     "execution_count": 49,
     "metadata": {},
     "output_type": "execute_result"
    }
   ],
   "source": [
    "value"
   ]
  },
  {
   "cell_type": "code",
   "execution_count": 52,
   "metadata": {},
   "outputs": [
    {
     "name": "stdout",
     "output_type": "stream",
     "text": [
      "Lampu Hijau : 40\n",
      "Lampu Merah : 10\n"
     ]
    }
   ],
   "source": [
    "if 200 <= value <= 500:\n",
    "    print (\"Lampu Hijau : 120\")\n",
    "    print (\"Lampu Merah : 60\")\n",
    "elif 100 <= value < 200:\n",
    "    print (\"Lampu Hijau : 100\")\n",
    "    print (\"Lampu Merah : 50\")\n",
    "elif 50 <= value < 100:\n",
    "    print (\"Lampu Hijau : 90\")\n",
    "    print (\"Lampu Merah : 40\")\n",
    "elif 20 <= value < 50:\n",
    "    print (\"Lampu Hijau : 60\")\n",
    "    print (\"Lampu Merah : 20\")\n",
    "elif 10 <= value < 20:\n",
    "    print (\"Lampu Hijau : 40\")\n",
    "    print (\"Lampu Merah : 10\")\n",
    "else:\n",
    "    print (\"Lampu Hijau : 20\")\n",
    "    print (\"Lampu Merah : 5\")"
   ]
  },
  {
   "cell_type": "code",
   "execution_count": null,
   "metadata": {},
   "outputs": [],
   "source": []
  }
 ],
 "metadata": {
  "kernelspec": {
   "display_name": "Python 3",
   "language": "python",
   "name": "python3"
  },
  "language_info": {
   "codemirror_mode": {
    "name": "ipython",
    "version": 3
   },
   "file_extension": ".py",
   "mimetype": "text/x-python",
   "name": "python",
   "nbconvert_exporter": "python",
   "pygments_lexer": "ipython3",
   "version": "3.6.8"
  }
 },
 "nbformat": 4,
 "nbformat_minor": 2
}
