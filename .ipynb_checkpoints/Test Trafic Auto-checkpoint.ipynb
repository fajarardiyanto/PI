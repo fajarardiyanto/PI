{
 "cells": [
  {
   "cell_type": "code",
   "execution_count": 14,
   "metadata": {},
   "outputs": [],
   "source": [
    "import csv"
   ]
  },
  {
   "cell_type": "code",
   "execution_count": 49,
   "metadata": {},
   "outputs": [],
   "source": [
    "dataset = open('./data_csv/laporan.csv', 'r+')\n",
    "read_dataset = csv.reader(dataset)"
   ]
  },
  {
   "cell_type": "code",
   "execution_count": 50,
   "metadata": {},
   "outputs": [],
   "source": [
    "count = len(list(read_dataset))"
   ]
  },
  {
   "cell_type": "code",
   "execution_count": 51,
   "metadata": {},
   "outputs": [
    {
     "data": {
      "text/plain": [
       "5"
      ]
     },
     "execution_count": 51,
     "metadata": {},
     "output_type": "execute_result"
    }
   ],
   "source": [
    "count"
   ]
  },
  {
   "cell_type": "code",
   "execution_count": 52,
   "metadata": {},
   "outputs": [
    {
     "name": "stdout",
     "output_type": "stream",
     "text": [
      "['Type_Kendaraan', 'Warna_Kendaraan', 'Arah_Kendaraan', 'Kecepatan_Kendaraan(km/h)']\n",
      "['car', 'white', 'down', 'n.a.']\n",
      "['car', 'white', 'up', 'n.a.']\n",
      "['car', 'white', 'down', 'n.a.']\n",
      "['car', 'white', 'up', 'n.a.']\n"
     ]
    }
   ],
   "source": [
    "with open('./data_csv/laporan.csv', 'r') as csv_file:\n",
    "    csv_read = csv.reader(csv_file)\n",
    "    \n",
    "    for line in csv_read:\n",
    "        print (line)"
   ]
  },
  {
   "cell_type": "code",
   "execution_count": 53,
   "metadata": {},
   "outputs": [
    {
     "data": {
      "text/plain": [
       "5"
      ]
     },
     "execution_count": 53,
     "metadata": {},
     "output_type": "execute_result"
    }
   ],
   "source": [
    "count"
   ]
  },
  {
   "cell_type": "code",
   "execution_count": 54,
   "metadata": {},
   "outputs": [
    {
     "name": "stdout",
     "output_type": "stream",
     "text": [
      "Lampu Hijau : 20\n",
      "Lampu Merah : 5\n"
     ]
    }
   ],
   "source": [
    "if 200 <= count <= 500:\n",
    "    print (\"Lampu Hijau : 120\")\n",
    "    print (\"Lampu Merah : 60\")\n",
    "elif 100 <= count < 200:\n",
    "    print (\"Lampu Hijau : 100\")\n",
    "    print (\"Lampu Merah : 80\")\n",
    "elif 50 <= count < 100:\n",
    "    print (\"Lampu Hijau : 90\")\n",
    "    print (\"Lampu Merah : 70\")\n",
    "elif 20 <= count < 50:\n",
    "    print (\"Lampu Hijau : 40\")\n",
    "    print (\"Lampu Merah : 60\")\n",
    "elif 10 <= count < 20:\n",
    "    print (\"Lampu Hijau : 20\")\n",
    "    print (\"Lampu Merah : 50\")\n",
    "else:\n",
    "    print (\"Lampu Hijau : 5\")\n",
    "    print (\"Lampu Merah : 20\")"
   ]
  },
  {
   "cell_type": "code",
   "execution_count": null,
   "metadata": {},
   "outputs": [],
   "source": []
  },
  {
   "cell_type": "code",
   "execution_count": null,
   "metadata": {},
   "outputs": [],
   "source": []
  },
  {
   "cell_type": "code",
   "execution_count": null,
   "metadata": {},
   "outputs": [],
   "source": []
  }
 ],
 "metadata": {
  "kernelspec": {
   "display_name": "Python 3",
   "language": "python",
   "name": "python3"
  },
  "language_info": {
   "codemirror_mode": {
    "name": "ipython",
    "version": 3
   },
   "file_extension": ".py",
   "mimetype": "text/x-python",
   "name": "python",
   "nbconvert_exporter": "python",
   "pygments_lexer": "ipython3",
   "version": "3.6.8"
  }
 },
 "nbformat": 4,
 "nbformat_minor": 2
}
