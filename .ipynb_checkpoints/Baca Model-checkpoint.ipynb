{
 "cells": [
  {
   "cell_type": "code",
   "execution_count": 14,
   "metadata": {},
   "outputs": [],
   "source": [
    "import os"
   ]
  },
  {
   "cell_type": "code",
   "execution_count": 15,
   "metadata": {},
   "outputs": [
    {
     "data": {
      "text/plain": [
       "'E:\\\\Programing\\\\ML\\\\MobilPI'"
      ]
     },
     "execution_count": 15,
     "metadata": {},
     "output_type": "execute_result"
    }
   ],
   "source": [
    "os.getcwd()"
   ]
  },
  {
   "cell_type": "code",
   "execution_count": 16,
   "metadata": {},
   "outputs": [],
   "source": [
    "dataset = './data/'\n",
    "files = os.listdir(dataset)"
   ]
  },
  {
   "cell_type": "code",
   "execution_count": 17,
   "metadata": {},
   "outputs": [
    {
     "data": {
      "text/plain": [
       "['mscoco_label_map.pbtxt']"
      ]
     },
     "execution_count": 17,
     "metadata": {},
     "output_type": "execute_result"
    }
   ],
   "source": [
    "files"
   ]
  },
  {
   "cell_type": "code",
   "execution_count": 18,
   "metadata": {},
   "outputs": [],
   "source": [
    "directory = os.getcwd()\n",
    "data = [dataset + dt for dt in files]"
   ]
  },
  {
   "cell_type": "code",
   "execution_count": 19,
   "metadata": {},
   "outputs": [
    {
     "data": {
      "text/plain": [
       "['./data/mscoco_label_map.pbtxt']"
      ]
     },
     "execution_count": 19,
     "metadata": {},
     "output_type": "execute_result"
    }
   ],
   "source": [
    "data"
   ]
  },
  {
   "cell_type": "code",
   "execution_count": 21,
   "metadata": {},
   "outputs": [
    {
     "name": "stdout",
     "output_type": "stream",
     "text": [
      "['item', '{\\n', '', 'name:', '\"/m/01g317\"\\n', '', 'id:', '1\\n', '', 'display_name:', '\"person\"\\n}\\nitem', '{\\n', '', 'name:', '\"/m/0199g\"\\n', '', 'id:', '2\\n', '', 'display_name:', '\"bicycle\"\\n}\\nitem', '{\\n', '', 'name:', '\"/m/0k4j\"\\n', '', 'id:', '3\\n', '', 'display_name:', '\"car\"\\n}\\nitem', '{\\n', '', 'name:', '\"/m/04_sv\"\\n', '', 'id:', '4\\n', '', 'display_name:', '\"motorcycle\"\\n}\\nitem', '{\\n', '', 'name:', '\"/m/05czz6l\"\\n', '', 'id:', '5\\n', '', 'display_name:', '\"airplane\"\\n}\\nitem', '{\\n', '', 'name:', '\"/m/01bjv\"\\n', '', 'id:', '6\\n', '', 'display_name:', '\"bus\"\\n}\\nitem', '{\\n', '', 'name:', '\"/m/07jdr\"\\n', '', 'id:', '7\\n', '', 'display_name:', '\"train\"\\n}\\nitem', '{\\n', '', 'name:', '\"/m/07r04\"\\n', '', 'id:', '8\\n', '', 'display_name:', '\"truck\"\\n}\\nitem', '{\\n', '', 'name:', '\"/m/019jd\"\\n', '', 'id:', '9\\n', '', 'display_name:', '\"boat\"\\n}\\nitem', '{\\n', '', 'name:', '\"/m/015qff\"\\n', '', 'id:', '10\\n', '', 'display_name:', '\"traffic', 'light\"\\n}\\nitem', '{\\n', '', 'name:', '\"/m/01pns0\"\\n', '', 'id:', '11\\n', '', 'display_name:', '\"fire', 'hydrant\"\\n}\\nitem', '{\\n', '', 'name:', '\"/m/02pv19\"\\n', '', 'id:', '13\\n', '', 'display_name:', '\"stop', 'sign\"\\n}\\nitem', '{\\n', '', 'name:', '\"/m/015qbp\"\\n', '', 'id:', '14\\n', '', 'display_name:', '\"parking', 'meter\"\\n}\\nitem', '{\\n', '', 'name:', '\"/m/0cvnqh\"\\n', '', 'id:', '15\\n', '', 'display_name:', '\"bench\"\\n}\\nitem', '{\\n', '', 'name:', '\"/m/015p6\"\\n', '', 'id:', '16\\n', '', 'display_name:', '\"bird\"\\n}\\nitem', '{\\n', '', 'name:', '\"/m/01yrx\"\\n', '', 'id:', '17\\n', '', 'display_name:', '\"cat\"\\n}\\nitem', '{\\n', '', 'name:', '\"/m/0bt9lr\"\\n', '', 'id:', '18\\n', '', 'display_name:', '\"dog\"\\n}\\nitem', '{\\n', '', 'name:', '\"/m/03k3r\"\\n', '', 'id:', '19\\n', '', 'display_name:', '\"horse\"\\n}\\nitem', '{\\n', '', 'name:', '\"/m/07bgp\"\\n', '', 'id:', '20\\n', '', 'display_name:', '\"sheep\"\\n}\\nitem', '{\\n', '', 'name:', '\"/m/01xq0k1\"\\n', '', 'id:', '21\\n', '', 'display_name:', '\"cow\"\\n}\\nitem', '{\\n', '', 'name:', '\"/m/0bwd_0j\"\\n', '', 'id:', '22\\n', '', 'display_name:', '\"elephant\"\\n}\\nitem', '{\\n', '', 'name:', '\"/m/01dws\"\\n', '', 'id:', '23\\n', '', 'display_name:', '\"bear\"\\n}\\nitem', '{\\n', '', 'name:', '\"/m/0898b\"\\n', '', 'id:', '24\\n', '', 'display_name:', '\"zebra\"\\n}\\nitem', '{\\n', '', 'name:', '\"/m/03bk1\"\\n', '', 'id:', '25\\n', '', 'display_name:', '\"giraffe\"\\n}\\nitem', '{\\n', '', 'name:', '\"/m/01940j\"\\n', '', 'id:', '27\\n', '', 'display_name:', '\"backpack\"\\n}\\nitem', '{\\n', '', 'name:', '\"/m/0hnnb\"\\n', '', 'id:', '28\\n', '', 'display_name:', '\"umbrella\"\\n}\\nitem', '{\\n', '', 'name:', '\"/m/080hkjn\"\\n', '', 'id:', '31\\n', '', 'display_name:', '\"handbag\"\\n}\\nitem', '{\\n', '', 'name:', '\"/m/01rkbr\"\\n', '', 'id:', '32\\n', '', 'display_name:', '\"tie\"\\n}\\nitem', '{\\n', '', 'name:', '\"/m/01s55n\"\\n', '', 'id:', '33\\n', '', 'display_name:', '\"suitcase\"\\n}\\nitem', '{\\n', '', 'name:', '\"/m/02wmf\"\\n', '', 'id:', '34\\n', '', 'display_name:', '\"frisbee\"\\n}\\nitem', '{\\n', '', 'name:', '\"/m/071p9\"\\n', '', 'id:', '35\\n', '', 'display_name:', '\"skis\"\\n}\\nitem', '{\\n', '', 'name:', '\"/m/06__v\"\\n', '', 'id:', '36\\n', '', 'display_name:', '\"snowboard\"\\n}\\nitem', '{\\n', '', 'name:', '\"/m/018xm\"\\n', '', 'id:', '37\\n', '', 'display_name:', '\"sports', 'ball\"\\n}\\nitem', '{\\n', '', 'name:', '\"/m/02zt3\"\\n', '', 'id:', '38\\n', '', 'display_name:', '\"kite\"\\n}\\nitem', '{\\n', '', 'name:', '\"/m/03g8mr\"\\n', '', 'id:', '39\\n', '', 'display_name:', '\"baseball', 'bat\"\\n}\\nitem', '{\\n', '', 'name:', '\"/m/03grzl\"\\n', '', 'id:', '40\\n', '', 'display_name:', '\"baseball', 'glove\"\\n}\\nitem', '{\\n', '', 'name:', '\"/m/06_fw\"\\n', '', 'id:', '41\\n', '', 'display_name:', '\"skateboard\"\\n}\\nitem', '{\\n', '', 'name:', '\"/m/019w40\"\\n', '', 'id:', '42\\n', '', 'display_name:', '\"surfboard\"\\n}\\nitem', '{\\n', '', 'name:', '\"/m/0dv9c\"\\n', '', 'id:', '43\\n', '', 'display_name:', '\"tennis', 'racket\"\\n}\\nitem', '{\\n', '', 'name:', '\"/m/04dr76w\"\\n', '', 'id:', '44\\n', '', 'display_name:', '\"bottle\"\\n}\\nitem', '{\\n', '', 'name:', '\"/m/09tvcd\"\\n', '', 'id:', '46\\n', '', 'display_name:', '\"wine', 'glass\"\\n}\\nitem', '{\\n', '', 'name:', '\"/m/08gqpm\"\\n', '', 'id:', '47\\n', '', 'display_name:', '\"cup\"\\n}\\nitem', '{\\n', '', 'name:', '\"/m/0dt3t\"\\n', '', 'id:', '48\\n', '', 'display_name:', '\"fork\"\\n}\\nitem', '{\\n', '', 'name:', '\"/m/04ctx\"\\n', '', 'id:', '49\\n', '', 'display_name:', '\"knife\"\\n}\\nitem', '{\\n', '', 'name:', '\"/m/0cmx8\"\\n', '', 'id:', '50\\n', '', 'display_name:', '\"spoon\"\\n}\\nitem', '{\\n', '', 'name:', '\"/m/04kkgm\"\\n', '', 'id:', '51\\n', '', 'display_name:', '\"bowl\"\\n}\\nitem', '{\\n', '', 'name:', '\"/m/09qck\"\\n', '', 'id:', '52\\n', '', 'display_name:', '\"banana\"\\n}\\nitem', '{\\n', '', 'name:', '\"/m/014j1m\"\\n', '', 'id:', '53\\n', '', 'display_name:', '\"apple\"\\n}\\nitem', '{\\n', '', 'name:', '\"/m/0l515\"\\n', '', 'id:', '54\\n', '', 'display_name:', '\"sandwich\"\\n}\\nitem', '{\\n', '', 'name:', '\"/m/0cyhj_\"\\n', '', 'id:', '55\\n', '', 'display_name:', '\"orange\"\\n}\\nitem', '{\\n', '', 'name:', '\"/m/0hkxq\"\\n', '', 'id:', '56\\n', '', 'display_name:', '\"broccoli\"\\n}\\nitem', '{\\n', '', 'name:', '\"/m/0fj52s\"\\n', '', 'id:', '57\\n', '', 'display_name:', '\"carrot\"\\n}\\nitem', '{\\n', '', 'name:', '\"/m/01b9xk\"\\n', '', 'id:', '58\\n', '', 'display_name:', '\"hot', 'dog\"\\n}\\nitem', '{\\n', '', 'name:', '\"/m/0663v\"\\n', '', 'id:', '59\\n', '', 'display_name:', '\"pizza\"\\n}\\nitem', '{\\n', '', 'name:', '\"/m/0jy4k\"\\n', '', 'id:', '60\\n', '', 'display_name:', '\"donut\"\\n}\\nitem', '{\\n', '', 'name:', '\"/m/0fszt\"\\n', '', 'id:', '61\\n', '', 'display_name:', '\"cake\"\\n}\\nitem', '{\\n', '', 'name:', '\"/m/01mzpv\"\\n', '', 'id:', '62\\n', '', 'display_name:', '\"chair\"\\n}\\nitem', '{\\n', '', 'name:', '\"/m/02crq1\"\\n', '', 'id:', '63\\n', '', 'display_name:', '\"couch\"\\n}\\nitem', '{\\n', '', 'name:', '\"/m/03fp41\"\\n', '', 'id:', '64\\n', '', 'display_name:', '\"potted', 'plant\"\\n}\\nitem', '{\\n', '', 'name:', '\"/m/03ssj5\"\\n', '', 'id:', '65\\n', '', 'display_name:', '\"bed\"\\n}\\nitem', '{\\n', '', 'name:', '\"/m/04bcr3\"\\n', '', 'id:', '67\\n', '', 'display_name:', '\"dining', 'table\"\\n}\\nitem', '{\\n', '', 'name:', '\"/m/09g1w\"\\n', '', 'id:', '70\\n', '', 'display_name:', '\"toilet\"\\n}\\nitem', '{\\n', '', 'name:', '\"/m/07c52\"\\n', '', 'id:', '72\\n', '', 'display_name:', '\"tv\"\\n}\\nitem', '{\\n', '', 'name:', '\"/m/01c648\"\\n', '', 'id:', '73\\n', '', 'display_name:', '\"laptop\"\\n}\\nitem', '{\\n', '', 'name:', '\"/m/020lf\"\\n', '', 'id:', '74\\n', '', 'display_name:', '\"mouse\"\\n}\\nitem', '{\\n', '', 'name:', '\"/m/0qjjc\"\\n', '', 'id:', '75\\n', '', 'display_name:', '\"remote\"\\n}\\nitem', '{\\n', '', 'name:', '\"/m/01m2v\"\\n', '', 'id:', '76\\n', '', 'display_name:', '\"keyboard\"\\n}\\nitem', '{\\n', '', 'name:', '\"/m/050k8\"\\n', '', 'id:', '77\\n', '', 'display_name:', '\"cell', 'phone\"\\n}\\nitem', '{\\n', '', 'name:', '\"/m/0fx9l\"\\n', '', 'id:', '78\\n', '', 'display_name:', '\"microwave\"\\n}\\nitem', '{\\n', '', 'name:', '\"/m/029bxz\"\\n', '', 'id:', '79\\n', '', 'display_name:', '\"oven\"\\n}\\nitem', '{\\n', '', 'name:', '\"/m/01k6s3\"\\n', '', 'id:', '80\\n', '', 'display_name:', '\"toaster\"\\n}\\nitem', '{\\n', '', 'name:', '\"/m/0130jx\"\\n', '', 'id:', '81\\n', '', 'display_name:', '\"sink\"\\n}\\nitem', '{\\n', '', 'name:', '\"/m/040b_t\"\\n', '', 'id:', '82\\n', '', 'display_name:', '\"refrigerator\"\\n}\\nitem', '{\\n', '', 'name:', '\"/m/0bt_c3\"\\n', '', 'id:', '84\\n', '', 'display_name:', '\"book\"\\n}\\nitem', '{\\n', '', 'name:', '\"/m/01x3z\"\\n', '', 'id:', '85\\n', '', 'display_name:', '\"clock\"\\n}\\nitem', '{\\n', '', 'name:', '\"/m/02s195\"\\n', '', 'id:', '86\\n', '', 'display_name:', '\"vase\"\\n}\\nitem', '{\\n', '', 'name:', '\"/m/01lsmm\"\\n', '', 'id:', '87\\n', '', 'display_name:', '\"scissors\"\\n}\\nitem', '{\\n', '', 'name:', '\"/m/0kmg4\"\\n', '', 'id:', '88\\n', '', 'display_name:', '\"teddy', 'bear\"\\n}\\nitem', '{\\n', '', 'name:', '\"/m/03wvsk\"\\n', '', 'id:', '89\\n', '', 'display_name:', '\"hair', 'drier\"\\n}\\nitem', '{\\n', '', 'name:', '\"/m/012xff\"\\n', '', 'id:', '90\\n', '', 'display_name:', '\"toothbrush\"\\n}\\n']\n"
     ]
    }
   ],
   "source": [
    "words = []\n",
    "for dt in data:\n",
    "    baca = open(dt, 'r')\n",
    "    reading = baca.read()\n",
    "    words += reading.split(\" \")\n",
    "    print(words)"
   ]
  },
  {
   "cell_type": "code",
   "execution_count": null,
   "metadata": {},
   "outputs": [],
   "source": []
  }
 ],
 "metadata": {
  "kernelspec": {
   "display_name": "Python 3",
   "language": "python",
   "name": "python3"
  },
  "language_info": {
   "codemirror_mode": {
    "name": "ipython",
    "version": 3
   },
   "file_extension": ".py",
   "mimetype": "text/x-python",
   "name": "python",
   "nbconvert_exporter": "python",
   "pygments_lexer": "ipython3",
   "version": "3.6.8"
  }
 },
 "nbformat": 4,
 "nbformat_minor": 2
}
